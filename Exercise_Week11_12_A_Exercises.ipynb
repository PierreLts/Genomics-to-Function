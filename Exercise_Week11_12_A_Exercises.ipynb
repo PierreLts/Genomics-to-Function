{
 "cells": [
  {
   "cell_type": "markdown",
   "id": "98442e35",
   "metadata": {
    "editable": true,
    "slideshow": {
     "slide_type": ""
    },
    "tags": []
   },
   "source": [
    "# Exercises Week 11-12: Graded exercise session (part A)\n",
    "\n",
    "**Course**: [Life Sciences engineering: genome to function](https://go.epfl.ch/BIO-411) (BIO-411)\n",
    "\n",
    "**Professors**:  _Gönczy Pierre_, _Naef Felix_, _McCabe Brian Donal_\n",
    "\n",
    "SSV, MA, 2024-2025\n"
   ]
  },
  {
   "cell_type": "code",
   "execution_count": null,
   "id": "1aa82971",
   "metadata": {},
   "outputs": [],
   "source": [
    "#import librairies\n",
    "import numpy as np\n",
    "import matplotlib.pyplot as plt\n",
    "from scipy.integrate import odeint\n",
    "from scipy.special import gammaln"
   ]
  },
  {
   "cell_type": "markdown",
   "id": "e19e8dbe",
   "metadata": {},
   "source": [
    "**Provide answers in the form of code, figures (if relevant) and short descriptions (in markdown cells) in those notebooks. Submit your notebook to Moodle, please make sure to execute every cell before you submit.**"
   ]
  },
  {
   "cell_type": "markdown",
   "id": "5d332f38",
   "metadata": {},
   "source": [
    "## Exercise 1: Transcriptional bursting"
   ]
  },
  {
   "cell_type": "markdown",
   "id": "b411c581",
   "metadata": {},
   "source": [
    "Let's consider the transcriptional process in which an mRNA $x$ is produced at a rate $s$ and degraded at a rate $k$. In addition to the simple birth-death process that we simulated in week 10, we will now consider a two-state model for the promoter (Random Telegraph process). This means that the promoter can switch from an active ($g=1$) to inactive state ($g=0$) and vice-versa with respective rates $k_{off}$ and $k_{on}$.\n",
    "\n",
    "\n",
    "The Telegraph process has the following elementary reactions:  \n",
    "\\begin{array}{lll}\n",
    "(1, n) \\longrightarrow (1, n+1) \\textrm{ with rate } s \\\\\n",
    "(g, n) \\longrightarrow (g, n-1) \\textrm{ with rate } k\\,n \\\\\n",
    "(1, n) \\longrightarrow (0, n) \\textrm{ with rate } k_{off} \\\\\n",
    "(0, n) \\longrightarrow (1, n) \\textrm{ with rate } k_{on}\n",
    "\\end{array}\n",
    "\n",
    "We describe the states $(g, n)$ with $g\\in \\{1, 0\\}$, $n \\in \\mathbb{N}$.\n",
    "\n",
    "*Hint*: In all of the exercises below, use rates that are possible biologically, especially for $s$ and $k$ (see course). Note that the units here are in minutes."
   ]
  },
  {
   "cell_type": "markdown",
   "id": "ab460e73",
   "metadata": {},
   "source": [
    "#### Question 1\n",
    "1. Using the code template provided, which includes initial values and parameters, modify the Gillespie algorithm to simulate the Telegraph model. Focus on integrating the two-state model for the promoter accurately into the algorithm.\n",
    "\n",
    "2. Explore several simulations where you vary the rates (e.g increase or decrease $k$, $s$, $k_{on}$, $k_{off}$), plot *three* representative examples with different rates and comment. Find cases that show qualitatively different behaviors. For each case, report the coefficient of variation of the number of mRNA copies ($CV=\\frac{\\sigma}{\\mu}$). *Hint*: always show simulations of length at about 10-20 times $k^{-1}$."
   ]
  },
  {
   "cell_type": "markdown",
   "id": "d874c152",
   "metadata": {},
   "source": [
    "#### Gillespie template"
   ]
  },
  {
   "cell_type": "code",
   "execution_count": null,
   "id": "4db05d8c",
   "metadata": {
    "editable": true,
    "slideshow": {
     "slide_type": ""
    },
    "tags": []
   },
   "outputs": [],
   "source": [
    "def run_gillespie_telegraph(n0, g0, parameters, t_end, DT):\n",
    "    \"\"\"\n",
    "    Simulates the Random telepgrah process using the Gillespie algorithm.\n",
    "\n",
    "    Parameters:\n",
    "    n0 : Initial count of species n.\n",
    "    g0 : Initial promoter state g (0 or 1).\n",
    "    parameters: Tuple containing transcription rate s, degradation rate k, switching rates k_on and k_off\n",
    "    t_end : Total simulation time.\n",
    "    DT: time interval for returning/printing the output\n",
    "\n",
    "    Returns:\n",
    "    n_print : Trajectory of species n counts over time.\n",
    "    g_print : Trajectory of promoter state g over time.\n",
    "    t_print : Time points for each recorded reaction.\n",
    "    \"\"\"\n",
    "    # Initialize state variables and time\n",
    "    n = n0   \n",
    "    g = g0   \n",
    "    t = 0    \n",
    "    tp = 0  \n",
    "\n",
    "    # Initialize output lists\n",
    "    n_print=[]  \n",
    "    g_print=[]  \n",
    "    t_print=[]  \n",
    "\n",
    "    # Unpack parameters\n",
    "    s, k, k_on, k_off = parameters \n",
    "\n",
    "    while t < t_end: \n",
    "        \n",
    "        # Define the stoichiometric matrix S (also called state-change matrix) and rate vector for each promoter state\n",
    "        if g == 1: # Promoter is active \n",
    "            S = ... # FILL HERE\n",
    "            rates = ... # FILL HERE\n",
    "        else: # Promoter is inactive\n",
    "            S = ... # FILL HERE\n",
    "            rates = ... # FILL HERE\n",
    "\n",
    "        # Calculate total rate and sample time to next reaction\n",
    "        rates_tot = sum(rates)\n",
    "        dt = np.random.exponential(scale=1.0 / rates_tot)\n",
    "        t += dt\n",
    "\n",
    "        # Determine which reaction occurs next\n",
    "        rand = np.random.random()        \n",
    "        rates_cumsum = np.cumsum(rates)/rates_tot\n",
    "\n",
    "        i=0\n",
    "        while rand >= rates_cumsum[i]:\n",
    "            i=i+1\n",
    "\n",
    "        # Record output at specified DT intervals (equally spaced output)\n",
    "        while tp < t and t <= t_end:\n",
    "            n_print.append(n)\n",
    "            g_print.append(g)\n",
    "            t_print.append(tp)\n",
    "            tp += DT\n",
    "        \n",
    "        # Update species n counts and promoter state g\n",
    "        chosen_react=i\n",
    "        g += S[chosen_react,0]\n",
    "        n += S[chosen_react,1]\n",
    "\n",
    "    return n_print, g_print, t_print"
   ]
  },
  {
   "cell_type": "code",
   "execution_count": null,
   "id": "3748128f",
   "metadata": {},
   "outputs": [],
   "source": [
    "def plot_gillespie_telegraph(n, g, t):\n",
    "    \"\"\"\n",
    "    Plots the Random telepgrah process using the Gillespie algorithm.\n",
    "\n",
    "    Parameters:\n",
    "    n: Species n counts over time.\n",
    "    g: Promoter state g over time.\n",
    "    t: Time points for each recorded reaction.\n",
    "\n",
    "    \"\"\"\n",
    "\n",
    "    fig, axs = plt.subplots(2, figsize=(15, 5), sharex=True)\n",
    "\n",
    "    # Plotting the number of molecules n over time\n",
    "    axs[0].plot(t, n, label = 'n(t)', color='darkblue')\n",
    "    axs[0].set_ylabel('# molecules n')\n",
    "\n",
    "    # Plotting the promoter activity over time\n",
    "    axs[1].vlines(x=t, ymin=np.min(g), ymax=np.array(g), colors='teal', lw=2, label='promoter activity')\n",
    "    axs[1].set_ylim(np.min(g), np.max(g)+0.1)  # Set y-limits to make the promoter states clear (0 and 1)\n",
    "    axs[1].set_ylabel('Promoter State')\n",
    "    \n",
    "    # Common x-label\n",
    "    plt.xlabel('time [min]')\n",
    "    \n",
    "    plt.show()"
   ]
  },
  {
   "cell_type": "code",
   "execution_count": null,
   "id": "4099da0c",
   "metadata": {
    "editable": true,
    "slideshow": {
     "slide_type": ""
    },
    "tags": []
   },
   "outputs": [],
   "source": [
    "#initial conditions for the state (g,n) at time t=0\n",
    "g_0 = 1 # Initial promoter state\n",
    "DT = 0.1 # min\n",
    "#if needed adjust DT so that it makes sense given the timescales of the system (depending on your rates)\n",
    "\n",
    "#Parameters, these are biologically plausible and should remain so.\n",
    "s = 1 # Number of initiations per minute\n",
    "k = 0.02 # Degradation rate, 1/k = 50 min\n",
    "k_off = 1/15 #Switching off rate, t_on = 1/k_off\n",
    "k_on  = 1/120 #Switching on rate, t_off = 1/k_on\n",
    "\n",
    "t_on = 1/k_off\n",
    "t_off = 1/k_on\n",
    "p_on = t_on/(t_on+t_off)\n",
    "print(f\"Pon:{p_on}\") \n",
    "\n",
    "n_expected = s/k * p_on\n",
    "# convert to integer\n",
    "n_0 = int(n_expected)\n",
    "\n",
    "t_end = 20 * 1/k # Total simulation time in minutes, adjust if needed\n",
    "\n",
    "parameters = [s, k, k_on, k_off]"
   ]
  },
  {
   "cell_type": "markdown",
   "id": "35a004cb",
   "metadata": {},
   "source": [
    "#### Question 2\n",
    "1. Study the distribution of mRNA numbers generated by your simulations. Identify parameters that results in a Poisson distribution of mRNA numbers. Show the empiral histogram and overlay an exact Poisson distribution. In this regime, explain how the parameters of the Telegraph model relate to the parameter of the Poisson distribution. *Hint*: $k_{off}=0$ with $g(t=0)=1$ is not the right answer. \n",
    "\n",
    "2. Find parameters where the mRNA distribution deviates from the Poisson. *Hint*: Look for a regime that yields a bimodal distribution. Explain your reasoning."
   ]
  },
  {
   "cell_type": "markdown",
   "id": "00a02682",
   "metadata": {
    "editable": true,
    "slideshow": {
     "slide_type": ""
    },
    "tags": []
   },
   "source": [
    "####  Helper functions for the Poisson distribution"
   ]
  },
  {
   "cell_type": "code",
   "execution_count": null,
   "id": "8b2e9e5c",
   "metadata": {},
   "outputs": [],
   "source": [
    "# Poisson distribution\n",
    "def Poisson(lam, counts):\n",
    "    \"\"\"\n",
    "    Calculate the Poisson distribution probability for given counts.\n",
    "    \n",
    "    Parameters:\n",
    "    lam: The average number of events (rate parameter).\n",
    "    counts: Observed counts.\n",
    "\n",
    "    Returns:\n",
    "    np.array: Probabilities corresponding to the observed counts.\n",
    "\n",
    "    Notes:\n",
    "    - This function uses the log-form of the Poisson probability mass function.\n",
    "    - The gammaln function is used for calculating the logarithm of the factorial term.\n",
    "\n",
    "    \"\"\"\n",
    "\n",
    "    logp = counts * np.log(lam) - lam - gammaln(counts + 1)\n",
    "    return np.exp(logp)"
   ]
  },
  {
   "cell_type": "code",
   "execution_count": null,
   "id": "e38bf3a0-eadb-48b0-8747-83a33e289f9d",
   "metadata": {},
   "outputs": [],
   "source": [
    "#initial conditions for the state (g,n) at time t=0\n",
    "g_0 = 1 # Initial promoter state\n",
    "\n",
    "##Find Parameters giving Poisson distribution\n",
    "s = ... # Number of initiations per minute \n",
    "k = ... # Degradation rate, 1/k \n",
    "k_off = ... #Switching off rate, t_on = 1/k_off \n",
    "k_on  = ... #Switching on rate, t_off = 1/k_on \n",
    "\n",
    "t_on = 1/k_off\n",
    "t_off = 1/k_on\n",
    "p_on = t_on/(t_on+t_off)\n",
    "n_expected = s/k * p_on\n",
    "# convert to integer\n",
    "n_0 = int(n_expected)\n",
    "\n",
    "DT = 0.01 # min\n",
    "\n",
    "print(f\"Expected number of molecules: {n_0}\")\n",
    "\n",
    "t_end = 100 * 1/k # Total simulation time in minutes, adjust if needed\n",
    "\n",
    "parameters = [s, k, k_on, k_off]\n"
   ]
  },
  {
   "cell_type": "markdown",
   "id": "c005664a",
   "metadata": {},
   "source": [
    "#### Question 3 (Promoter cycle)\n",
    "Transcription in mammals often requires a more complicated telegraph model (promoter cycle), where the promoter state goes through an $ON$ state, and then sequentially goes through several $OFF_n$ state before returning to the ON state. For example with two $OFF$ states, it would look like: $ON\\,(g=1)\\longrightarrow OFF_1 (g=2) \\longrightarrow OFF_2 (g=3) \\longrightarrow ON (g=1)$. This is related to the fact that transcription events often show a refractory period, *i.e.* promoter tend to stay off for some amount of time before turning back on. \n",
    "\n",
    "1. Modify the above code to implement the promoter cycle with two $OFF$ state. First, use rates as in the example above with the following modifications: $s = 20$, $k = 0.02$, $k_{on-off_1} = 1/15$, $k_{off_1-off_2} = 1/60$ and $k_{off_2-on}  = 1/60$. Show some representative simulations. Plot both the mRNA and promoter state.\n",
    "\n",
    "2. Study the distribution of the durations of each $OFF$ interval separately and of the two $OFF$ intervals together. Focus on the shape of the distributions. Explain your findings.\n",
    "\n",
    "3. (Bonus). Can you explain mathematically the shape of the distribution? What would happen if you include more $OFF_n$ states?"
   ]
  },
  {
   "cell_type": "code",
   "execution_count": null,
   "id": "c74c0f22",
   "metadata": {
    "editable": true,
    "slideshow": {
     "slide_type": ""
    },
    "tags": []
   },
   "outputs": [],
   "source": [
    "#Adapt the Gillepsie algorithm to the promoter cycle case"
   ]
  }
 ],
 "metadata": {
  "kernelspec": {
   "display_name": "Python3",
   "language": "python",
   "name": "python3"
  },
  "language_info": {
   "codemirror_mode": {
    "name": "ipython",
    "version": 3
   },
   "file_extension": ".py",
   "mimetype": "text/x-python",
   "name": "python",
   "nbconvert_exporter": "python",
   "pygments_lexer": "ipython3",
   "version": "3.12.5"
  }
 },
 "nbformat": 4,
 "nbformat_minor": 5
}
