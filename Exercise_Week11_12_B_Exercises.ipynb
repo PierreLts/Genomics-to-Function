{
 "cells": [
  {
   "cell_type": "markdown",
   "id": "bff91b09",
   "metadata": {},
   "source": [
    "# Exercises Week 11-12: Graded exercise session (part B)\n",
    "\n",
    "**Course**: [Life Sciences engineering: genome to function](https://go.epfl.ch/BIO-411) (BIO-411)\n",
    "\n",
    "**Professors**:  _Gönczy Pierre_, _Naef Felix_, _McCabe Brian Donal_\n",
    "\n",
    "SSV, MA, 2024-2025"
   ]
  },
  {
   "cell_type": "code",
   "execution_count": null,
   "id": "867ce50e",
   "metadata": {},
   "outputs": [],
   "source": [
    "import pandas as pd\n",
    "import numpy as np\n",
    "from sklearn.decomposition import PCA\n",
    "import plotly.express as px\n",
    "import matplotlib.pyplot as plt\n",
    "from sklearn.preprocessing import scale\n",
    "\n",
    "from scipy.integrate import odeint\n",
    "import matplotlib.pyplot as plt\n",
    "from ipywidgets import interact, fixed\n",
    "import scipy\n",
    "from scipy.stats import beta\n",
    "import statsmodels.api as sm\n",
    "from statsmodels.stats.multitest import multipletests\n",
    "\n",
    "import seaborn as sns\n",
    "\n"
   ]
  },
  {
   "cell_type": "markdown",
   "id": "e04f778e",
   "metadata": {},
   "source": [
    "**Provide answers in the form of code, figures (if relevant) and short descriptions (in markdown cells) in those notebooks. Submit your notebook to Moodle, please make sure to execute every cell.**"
   ]
  },
  {
   "cell_type": "markdown",
   "id": "c4dcb272",
   "metadata": {},
   "source": [
    "### Exercise 1: Simulation of circadian gene regulation"
   ]
  },
  {
   "cell_type": "markdown",
   "id": "ecaa0b5a",
   "metadata": {},
   "source": [
    "In this exercise, we revisit and extend the concepts from Week 9, focusing on the transcription and splicing of a pre-mRNA to produce mRNA. We describe this process using a two-dimensional Ordinary Differential Equation (ODE), similar to our previous approach but with a key difference: we now incorporate **time-dependent** transcription and degradation rates to model circadian rhythms.\n",
    "\n",
    "The system is defined by the following ODEs:\n",
    "\n",
    "\\begin{array}{ll}\n",
    "\\frac{dP}{dt} = s(t) - \\rho P \\\\  \n",
    "\\\\\n",
    "\\frac{dM}{dt} = \\rho P - k(t) M \\\\\n",
    "\\end{array}\n",
    "\n",
    "where  $P$ and $M$ represent the concentrations of pre-mRNA and mRNA, respectively. We will consider time-dependent (circadian) transcription and degradation rates. The frequency is defined by $\\omega=\\frac{2\\pi}{T}$ with $T=24h$.  \n",
    "\n",
    "$s(t)$ is the transcription rate, which is now taken either as constant $s(t)=s_{0}$ or as a rhythmic function of time:  \n",
    "\n",
    "\\begin{equation*}\n",
    "s(t) = s_0(1 + \\epsilon_s \\cos(\\omega t)) \n",
    "\\end{equation*}  \n",
    "with relative amplitude $0\\leq \\epsilon_s\\leq 1$. Note that the peak of $s(t)$ is at $t=0$.  \n",
    " \n",
    "Similarly, we will consider the degradation rate $k(t)$ either as constant $k(t)= k_0$ or a rhythmic function of time:  \n",
    "\\begin{equation*}\n",
    "k(t)=k_0(1 + \\epsilon_k \\cos(\\omega (t-t_k))\n",
    "\\end{equation*}  \n",
    "with $0\\leq\\epsilon_k\\leq 1$, and the maximum degradation rate at $t=t_k$.\n",
    "\n",
    "$\\rho$ represents the constant splicing rate of pre-mRNA $P$ into mRNA $M$."
   ]
  },
  {
   "cell_type": "markdown",
   "id": "ebecf369",
   "metadata": {},
   "source": [
    "### Question 1\n",
    "1. Adapt the code from Week 9 exercises to simulate this system with rhythmic transcription and degradation rates. Modify the interactive widget such that you can vary the new parameters and plot $P(t)$ and $M(t)$.  \n",
    "\n",
    "2. Keep the degradation rate constant (set $\\epsilon_k$=0) and vary $k_0$ and $\\epsilon_s$.\n",
    "    * How does the phase delay between $M(t)$ and $P(t)$ changes with different values of $k_0$?\n",
    "    * How does the amplitude (use the ratio between max and min) of $M(t)$ changes with different values of $k_0$? \n",
    "    \n",
    "    Make sure you span a relevant range for $k_0^{-1}$ ( *i.e.* from 10 minutes to several hours).  \n",
    "\n",
    "3. Now introduce rhythmic degradation by varying $\\epsilon_k$. \n",
    "    * Show that you can obtain a rhyhtmic mRNA accumulation when the synthesis is constant ($\\epsilon_s=0$). \n",
    "    \n"
   ]
  },
  {
   "cell_type": "markdown",
   "id": "94467283",
   "metadata": {},
   "source": [
    "### Exercise 2: Circadian (post-)transcriptional regulation of gene expression in mouse liver and muscle"
   ]
  },
  {
   "cell_type": "markdown",
   "id": "5d4c6d92",
   "metadata": {},
   "source": [
    "In this exercise, we will analyze RNA-seq data from mouse liver and muscle under a night-restricted feeding regimen and in the presence of a 12-hour light-dark cycle. The samples were harvested every 2 hours around the clock, with higher resolution around the fasting-feeding transition (ZT12), in two replicates. Similar to the Week 9 exercises on RNA-seq data, gene expression was quantified at the intron (i.e., unspliced) and exon (i.e., spliced) levels. Note that the data are $log_2$-transformed and normalized by transcript length (RPKM, Reads Per Kilobase per Million mapped reads)."
   ]
  },
  {
   "cell_type": "markdown",
   "id": "a32ef471",
   "metadata": {},
   "source": [
    "### Function definition"
   ]
  },
  {
   "cell_type": "code",
   "execution_count": null,
   "id": "6cfbb4aa",
   "metadata": {},
   "outputs": [],
   "source": [
    "def run_PCA(data, n_components=5, color_by='replicate', symbol_by='time', scale_data=True):\n",
    "    \n",
    "    \"\"\"\n",
    "    Runs PCA on the provided data and generates a scatter plot of pairs of principal components.\n",
    "    It also returns a DataFrame containing the PCA loadings.\n",
    "\n",
    "    Parameters:\n",
    "    data: The gene expression data to analyze.\n",
    "    n_components: The number of principal components to calculate.\n",
    "    color_by: The metadata category to color the data points by.\n",
    "    symbol_by: The metadata category to symbolize the data points by.\n",
    "    scale_data: Whether to scale the data before PCA.\n",
    "\n",
    "    Returns:\n",
    "    pd.DataFrame: A DataFrame containing the PCA loadings.\n",
    "    \"\"\"\n",
    "\n",
    "    data_tmp = data.copy()\n",
    "    \n",
    "    # Scale and/or log-transform the data if specified\n",
    "    if scale_data:\n",
    "        data = scale(data)\n",
    "    else:\n",
    "        data = data\n",
    "\n",
    "        \n",
    "    # Fit the PCA model\n",
    "    pca = PCA(n_components=n_components)\n",
    "    pca.fit(data.T)\n",
    "\n",
    "    # Transform the data\n",
    "    pca_transformed = pca.transform(data.T)\n",
    "\n",
    "    # Create a DataFrame for the PCA results\n",
    "    labels = [f'PC{i+1}' for i in range(n_components)]\n",
    "    pca_df = pd.DataFrame(pca_transformed, columns=labels)\n",
    "    if color_by=='time':\n",
    "        pca_df[color_by] = pd.to_numeric(data_tmp.columns.get_level_values(color_by))\n",
    "        palette='twilight'\n",
    "    else:\n",
    "        pca_df[color_by] = data_tmp.columns.get_level_values(color_by)\n",
    "        palette='Set1'\n",
    "    pca_df[color_by] = data_tmp.columns.get_level_values(color_by)\n",
    "    pca_df[symbol_by] = data_tmp.columns.get_level_values(symbol_by)\n",
    "\n",
    "    # Plotting each pair of consecutive principal components\n",
    "    fig, axes = plt.subplots(1, n_components -1, figsize=(30, 5))\n",
    "    for i in range(n_components-1):\n",
    "        sns.scatterplot(ax=axes[i], data=pca_df, x=f'PC{i+1}', y=f'PC{i+2}', \n",
    "        hue=color_by, style=symbol_by, s=200, palette=palette)\n",
    "\n",
    "        axes[i].set_xlabel(f'PC{i+1} ({pca.explained_variance_ratio_[i]*100:.2f}%)')\n",
    "        axes[i].set_ylabel(f'PC{i+2} ({pca.explained_variance_ratio_[i+1]*100:.2f}%)')\n",
    "        axes[i].set_box_aspect(1) \n",
    "        # remove legend if it's not the first plot\n",
    "        if i == 0:\n",
    "        # Move legend outside for the first plot\n",
    "            axes[i].legend(loc='upper center', bbox_to_anchor=(1.3, 1), ncol=2, title=color_by)\n",
    "        else:\n",
    "        # Remove legend for all other plots\n",
    "            axes[i].get_legend().remove()\n",
    "    fig.suptitle(f'PCA of Gene Expression Data (color={color_by}, symbol={symbol_by})', fontsize=16)\n",
    "    plt.tight_layout()\n",
    "    \n",
    "    # Return the PCA loadings\n",
    "    df_pca = pd.DataFrame(pca.components_, columns=data_tmp.index, index=labels)\n",
    "\n",
    "    return df_pca\n",
    "\n",
    "def subselect(data, feature = None, replicate = None, time = None, condition = None):\n",
    "\n",
    "    \"\"\"\n",
    "    Subselects samples from the full dataset based on the specified features, conditions, \n",
    "    replicates, and time points.\n",
    "\n",
    "    Parameters:\n",
    "    data: The full gene expression dataset.\n",
    "    feature: The features to filter by (e.g., ['intron', 'exon']).\n",
    "    replicate: The replicates to include.\n",
    "    time: The time points to include.\n",
    "    condition: The conditions to include (e.g, ['muscle', 'liver']).\n",
    "\n",
    "    Returns:\n",
    "    pd.DataFrame: The filtered dataset.\n",
    "    \"\"\"\n",
    "    \n",
    "    # Create boolean masks for each filtering criterion\n",
    "    if feature is None:\n",
    "        feature = data.columns.get_level_values('feature').unique()\n",
    "    if replicate is None:\n",
    "        replicate = data.columns.get_level_values('replicate').unique()\n",
    "    if time is None:\n",
    "        time = data.columns.get_level_values('time').unique()\n",
    "    if condition is None:\n",
    "        condition = data.columns.get_level_values('condition').unique()\n",
    "\n",
    "    feature_mask  = data.columns.get_level_values('feature').isin(feature)\n",
    "    condition_mask  = data.columns.get_level_values('condition').isin(condition)\n",
    "    replicate_mask  = data.columns.get_level_values('replicate').isin(replicate)\n",
    "    time_mask = data.columns.get_level_values('time').isin(time)\n",
    "\n",
    "    # Use the masks to filter the data\n",
    "    filtered_data = data.iloc[:, feature_mask & condition_mask & replicate_mask & time_mask]\n",
    "    \n",
    "    return filtered_data\n",
    "\n",
    "def harm_reg(x, t, period):\n",
    "    \"\"\"\n",
    "    Fit a harmonic regression model to a time series. Perform likelihood ratio test between the full and null model. Get p-value from the test.\n",
    "    \n",
    "    Parameters:\n",
    "    x (array): Time series data\n",
    "    t (array): Time points\n",
    "    period (float): Period of the harmonic function (e.g., 24 for daily rhythms)\n",
    "\n",
    "    Returns:\n",
    "    tuple: Mean (mu), peak-to-through amplitude (amp), phase (phase), and p-value (p_val)\n",
    "\n",
    "    \"\"\"\n",
    "\n",
    "    n = len(x)\n",
    "    \n",
    "    # Fit the null model (intercept only)\n",
    "    X0 = np.ones((n, 1))  # Design matrix for the null model\n",
    "    fit0 = sm.OLS(x, X0).fit()\n",
    "    \n",
    "    c = np.cos(2 * np.pi * t / period)\n",
    "    s = np.sin(2 * np.pi * t / period)\n",
    "    \n",
    "    # Design matrix for the full model\n",
    "    X1 = np.column_stack((np.ones(n), c, s))\n",
    "    fit1 = sm.OLS(x, X1).fit()\n",
    "    \n",
    "    # Coefficients\n",
    "    mu = fit1.params[0]\n",
    "    a = fit1.params[1]\n",
    "    b = fit1.params[2]\n",
    "    \n",
    "    # Likelihood ratio test\n",
    "    lr_stat = 2 * (fit1.llf - fit0.llf)\n",
    "    p_val = scipy.stats.chi2.sf(lr_stat, 2)\n",
    "    \n",
    "    # Amplitude and phase\n",
    "    amp = 2 * np.sqrt(a**2 + b**2)\n",
    "    phase = np.arctan2(b, a) % (2 * np.pi)\n",
    "    phase = period * phase / (2 * np.pi)\n",
    "\n",
    "    \n",
    "    return mu, amp, phase, p_val\n",
    "\n",
    "def fit_harmo(data, time, period):\n",
    "    \"\"\"\n",
    "    Applies the harm_reg function to all genes for a given normalized gene expression dataset.\n",
    "\n",
    "    Parameters:\n",
    "    data (pd.DataFrame): Normalized gene expression dataset with genes as rows.\n",
    "    time (array): Time points for the dataset.\n",
    "    period (float): Period of the harmonic function (e.g., 24 for daily rhythms).\n",
    "\n",
    "    Returns:\n",
    "    pd.DataFrame: A DataFrame containing the amplitude, phase, p-value, qvalue and mu for each gene.\n",
    "    \"\"\"\n",
    "    results = data.apply(lambda x: harm_reg(x.values, time, period), axis=1)\n",
    "    results_df = pd.DataFrame(results.tolist(), index=data.index, columns=['mu', 'amp', 'phase', 'p_val'])\n",
    "    results_df['p_val'] = results_df['p_val'].fillna(1)\n",
    "    results_df['q_val'] = multipletests(results_df['p_val'], method='fdr_bh')[1]\n",
    "\n",
    "    return results_df\n",
    "\n",
    "\n",
    "# Plotting function for side-by-side liver and muscle plots\n",
    "def plot_gene_expression(dat_melted, gene_name):\n",
    "    \"\"\"\n",
    "    Plots the expression of a gene in liver and muscle over time.\n",
    "\n",
    "    Parameters:\n",
    "    dat_melted (pd.DataFrame): The melted gene expression dataset.\n",
    "    gene_name (str): The gene to plot.\n",
    "\n",
    "    Returns:\n",
    "    None\n",
    "    \"\"\"\n",
    "\n",
    "    # Filter the melted DataFrame for the gene of interest\n",
    "    data = dat_melted[dat_melted['gene.symb'] == gene_name]\n",
    "\n",
    "    fig, axes = plt.subplots(1, 2, figsize=(12, 6), sharey=True)  # Create 1 row, 2 columns\n",
    "    \n",
    "    # Plot Liver\n",
    "    sns.scatterplot(\n",
    "        data=data[data['condition'] == 'liver'],  # Filter directly for liver\n",
    "        x='time', y='expression', hue='feature', style='feature',\n",
    "        alpha=0.6, legend='full', ax=axes[0]\n",
    "    )\n",
    "    sns.lineplot(\n",
    "        data=data[data['condition'] == 'liver'],  # Filter directly for liver\n",
    "        x='time', y='expression', hue='feature', estimator='mean',\n",
    "        errorbar=None, legend=False, ax=axes[0]\n",
    "    )\n",
    "    axes[0].set_title(f\"{gene_name} Expression in Liver\")\n",
    "    axes[0].set_xlabel(\"Time (hours)\")\n",
    "    axes[0].set_ylabel(\"Expression Level\")\n",
    "    axes[0].grid(alpha=0.3)\n",
    "    axes[0].set_box_aspect(1)  # Ensure square aspect ratio\n",
    "\n",
    "    # Plot Muscle\n",
    "    sns.scatterplot(\n",
    "        data=data[data['condition'] == 'muscle'],  \n",
    "        x='time', y='expression', hue='feature', style='feature',\n",
    "        alpha=0.6, legend='full', ax=axes[1]\n",
    "    )\n",
    "    sns.lineplot(\n",
    "        data=data[data['condition'] == 'muscle'],  \n",
    "        x='time', y='expression', hue='feature', estimator='mean',\n",
    "        errorbar=None, legend=False, ax=axes[1]\n",
    "    )\n",
    "    axes[1].set_title(f\"{gene_name} Expression in Muscle\")\n",
    "    axes[1].set_xlabel(\"Time (hours)\")\n",
    "    axes[1].grid(alpha=0.3)\n",
    "    axes[1].set_box_aspect(1)  # Ensure square aspect ratio\n",
    "    \n",
    "    plt.show()"
   ]
  },
  {
   "cell_type": "markdown",
   "id": "2ff2e8ad",
   "metadata": {},
   "source": [
    "### Question 1\n",
    "\n",
    "1. Perform PCA using the following 15 genes (core clock genes and selected clock output genes):  \n",
    " ``['Arntl', 'Npas2', 'Clock', 'Cry1', 'Cry2', 'Per1', 'Per2', 'Per3', 'Nr1d1', 'Nr1d2', 'Rora', 'Rorc', 'Tef', 'Dbp', 'Ciart']``.  \n",
    "Start by analyzing only the exons, then focus on the introns, for liver and muscle tissues separately.\n",
    "\n",
    "2. Use the *fit_harmo* (i.e. harmonic regression) function on the data to assess and characterize genome-wide gene expression rhythmicity. Perform this analysis separately for the exons and introns, as well as for the muscle and liver tissues.\n",
    "\n",
    "- Select rhythmic genes based on q-value thresholds (e.g., $q < 0.05$) and amplitude thresholds (e.g., $log_2$ peak-to-trough > 0.5) for further analysis.\n",
    "- Provide histograms of the peak times (i.e. phase) and amplitudes ($log_2$ peak-to-trough) for the selected genes.\n",
    "- Examine whether you observe patterns typically referred to as the 'morning' and 'evening' waves of gene expression.\n",
    "- Compare your observations between liver and muscle tissues.\n",
    "\n"
   ]
  },
  {
   "cell_type": "markdown",
   "id": "d725b9ef",
   "metadata": {},
   "source": [
    "#### Load the RNA-seq data"
   ]
  },
  {
   "cell_type": "code",
   "execution_count": null,
   "id": "0a51a74b",
   "metadata": {},
   "outputs": [],
   "source": [
    "dat = pd.read_csv(\"./log2_RPKM_Liver_Muscle_Intron_Exon.tsv\",sep='\\t')\n",
    "dat.index = dat['gene.symb']\n",
    "dat = dat.drop(['gene.symb'], axis=1)\n",
    "dat.columns = dat.columns.str.replace('ZT','') # remove ZT from time\n",
    "dat.columns = dat.columns.str.split('_', expand = True) # split columns by '_'\n",
    "dat.columns.names = ['feature','condition','time','replicate'] # name the columns, multi-index\n",
    "\n",
    "# Calculate the mean expression in liver and muscle\n",
    "mean_liver = dat.xs('liver', level='condition', axis=1).mean(axis=1)\n",
    "mean_muscle = dat.xs('muscle', level='condition', axis=1).mean(axis=1)\n",
    "\n",
    "# Filter out lowly expressed genes\n",
    "dat = dat[(mean_liver >= -4) & (mean_muscle >= -4)]\n",
    "\n",
    "#melting the data for plotting later\n",
    "dat_melted = dat.stack(level=[0, 1, 2, 3], future_stack=True).reset_index()\n",
    "dat_melted.columns = ['gene.symb', 'feature', 'condition', 'time', 'replicate', 'expression']\n",
    "dat_melted['time'] = dat_melted['time'].str.extract(r'(\\d+)').astype(int)\n",
    "\n",
    "\n",
    "# Subset the data for liver and muscle, intron and exon\n",
    "dat_intron_liver = subselect(dat, feature = ['Intron'], condition = ['liver'])\n",
    "dat_exon_liver = subselect(dat, feature = ['Exon'], condition = ['liver'])\n",
    "dat_intron_muscle = subselect(dat, feature = ['Intron'], condition = ['muscle'])\n",
    "dat_exon_muscle = subselect(dat, feature = ['Exon'], condition = ['muscle'])\n"
   ]
  },
  {
   "cell_type": "markdown",
   "id": "e4adc336",
   "metadata": {},
   "source": [
    "#### Perform the PCA on clock related genes"
   ]
  },
  {
   "cell_type": "code",
   "execution_count": null,
   "id": "ef3573cc",
   "metadata": {},
   "outputs": [],
   "source": [
    "circa_genes = ['Arntl', 'Npas2', 'Clock', 'Cry1', 'Cry2', 'Per1', 'Per2', 'Per3', 'Nr1d1', 'Nr1d2', 'Rora', 'Rorc', 'Tef', 'Dbp','Ciart']\n",
    "\n",
    "#run_PCA ....\n",
    "#...\n",
    "#...\n",
    "#..."
   ]
  },
  {
   "cell_type": "markdown",
   "id": "18464198",
   "metadata": {},
   "source": [
    "#### Assess gene expression rhythmicity genome-wide"
   ]
  },
  {
   "cell_type": "code",
   "execution_count": null,
   "id": "477fd66e",
   "metadata": {},
   "outputs": [],
   "source": [
    "# Apply the function to both intron and exon data for both tissues\n",
    "T = 24\n",
    "time = dat_exon_liver.columns.get_level_values('time').str.replace('ZT','').astype(int)\n",
    "\n",
    "results_intron_liver = fit_harmo(dat_intron_liver, time, T)\n",
    "results_exon_liver = fit_harmo(dat_exon_liver, time, T)\n",
    "results_intron_muscle = fit_harmo(dat_intron_muscle, time, T)\n",
    "results_exon_muscle = fit_harmo(dat_exon_muscle, time, T)"
   ]
  },
  {
   "cell_type": "markdown",
   "id": "1bafa827",
   "metadata": {},
   "source": [
    "#### Define the genes of interest"
   ]
  },
  {
   "cell_type": "code",
   "execution_count": null,
   "id": "18e0ffa8",
   "metadata": {},
   "outputs": [],
   "source": [
    "# Define the genes with significant gene expression rhythm in the liver\n",
    "\n",
    "#gene_liver_i = np.logical_and(..., ...)\n",
    "#...\n",
    "#...\n",
    "\n",
    "# Define the genes with significant gene expression rhythm in the muscle\n",
    "\n",
    "#gene_liver_i = np.logical_and(..., ...)\n",
    "#...\n",
    "#..."
   ]
  },
  {
   "cell_type": "markdown",
   "id": "b32da483",
   "metadata": {},
   "source": [
    "#### Plot phase and amplitude distribution for the rhythmic genes"
   ]
  },
  {
   "cell_type": "code",
   "execution_count": null,
   "id": "82d3579a",
   "metadata": {},
   "outputs": [],
   "source": [
    "#...\n",
    "#...\n",
    "#...\n",
    "#..."
   ]
  },
  {
   "cell_type": "markdown",
   "id": "5cbe75a3",
   "metadata": {},
   "source": [
    "### Question 2\n",
    "\n",
    "1. Related to Exercise 1, study the relationship between the peak times (i.e., phase) of pre-mRNA and mRNA for genes that exhibit rhythmic behavior at both the pre-mRNA and mRNA levels in each tissue independently. Use appropriate cutoffs in your analysis to select a subset of genes that are rhythmic at both the pre-mRNA and mRNA levels. Aim to include several hundred genes for a robust analysis.  \n",
    "   **Hint:** Show a scatter plot of mRNA vs. pre-mRNA peak times. Explain your findings.\n",
    "\n",
    "2. Show representative profiles of genes with short or long delays between the pre-mRNA and mRNA peak times.\n",
    "\n",
    "3. From the delay between the pre-mRNA and mRNA ($\\delta t$ [hr]), infer the mRNA half-life ($\\tau$ [hr]) using the formula derived in the course:  \n",
    "\n",
    "\n",
    "   $$\\tan\\left(\\frac{2\\pi \\cdot \\delta t}{24}\\right) = \\frac{24}{2\\pi}  \\frac{ \\tau}{\\ln(2)}$$\n",
    " \n",
    "\n",
    "   Plot the histogram of the inferred mRNA half-lives for each tissue. Explain your findings.\n",
    "\n",
    "4. For the selected genes that are common between muscle and liver, compare their mRNA half-lives. Show representative profiles of genes with tissue-specific half-lives. \n",
    "\n",
    "5. **(Bonus):** What can you infer about the splicing rate?  \n",
    "\n",
    "\n",
    "\n"
   ]
  },
  {
   "cell_type": "markdown",
   "id": "a8e26736",
   "metadata": {},
   "source": [
    "#### Plot pre-mRNA, mRNA delay"
   ]
  },
  {
   "cell_type": "code",
   "execution_count": null,
   "id": "dff747a2",
   "metadata": {},
   "outputs": [],
   "source": [
    "\n",
    "#plot phase intron vs phase exon for gene_liver\n",
    "#...\n",
    "#...\n",
    "\n",
    "#plot phase intron vs phase exon for ii gene_muscle\n",
    "#...\n",
    "#...\n"
   ]
  },
  {
   "cell_type": "markdown",
   "id": "a7292993",
   "metadata": {},
   "source": [
    "### Plot representative genes with short or long-delay"
   ]
  },
  {
   "cell_type": "code",
   "execution_count": null,
   "id": "4912a364",
   "metadata": {},
   "outputs": [],
   "source": [
    "#compute the delay between intron and exon for liver and muscle\n",
    "#restrict to genes with phase difference < 6 hours and with exon later than intron\n",
    "\n",
    "#...\n",
    "#...\n",
    "#...\n",
    "#...\n",
    "\n",
    "#find gene with shortest delay in muscle and liver, plot representative gene expression\n",
    "#plot_gene_expression(dat_melted, \"GeneName\")\n",
    "\n",
    "\n",
    "#find gene with delay between 3 and 4 hours in muscle and liver\n",
    " #plot_gene_expression(dat_melted, \"GeneName\")\n"
   ]
  },
  {
   "cell_type": "markdown",
   "id": "7a554df5",
   "metadata": {},
   "source": [
    "### Compute half-life from the delay between intron and exon\n"
   ]
  },
  {
   "cell_type": "code",
   "execution_count": null,
   "id": "2a818efc",
   "metadata": {},
   "outputs": [],
   "source": [
    "#...\n",
    "#...\n",
    "#...\n",
    "#...\n"
   ]
  },
  {
   "cell_type": "markdown",
   "id": "2ab9ff2d",
   "metadata": {},
   "source": [
    "### Compare half-lives between muscle and liver"
   ]
  },
  {
   "cell_type": "code",
   "execution_count": null,
   "id": "ba836ff8",
   "metadata": {},
   "outputs": [],
   "source": [
    "#...\n",
    "#...\n",
    "#...\n",
    "#...\n"
   ]
  },
  {
   "cell_type": "markdown",
   "id": "d6503382",
   "metadata": {},
   "source": [
    "### Plot representative genes with tissue-specific half-life"
   ]
  },
  {
   "cell_type": "code",
   "execution_count": null,
   "id": "382ad1fc",
   "metadata": {},
   "outputs": [],
   "source": [
    "#...\n",
    "#...\n",
    "\n",
    "#plot_gene_expression(dat_melted, 'GeneName')\n",
    " "
   ]
  }
 ],
 "metadata": {
  "kernelspec": {
   "display_name": "Python 3 (ipykernel)",
   "language": "python",
   "name": "python3"
  },
  "language_info": {
   "codemirror_mode": {
    "name": "ipython",
    "version": 3
   },
   "file_extension": ".py",
   "mimetype": "text/x-python",
   "name": "python",
   "nbconvert_exporter": "python",
   "pygments_lexer": "ipython3",
   "version": "3.9.18"
  }
 },
 "nbformat": 4,
 "nbformat_minor": 5
}
